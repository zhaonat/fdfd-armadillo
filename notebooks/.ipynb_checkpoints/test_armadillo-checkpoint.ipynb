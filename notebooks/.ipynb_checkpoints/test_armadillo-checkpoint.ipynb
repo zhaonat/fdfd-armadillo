{
 "cells": [
  {
   "cell_type": "code",
   "execution_count": 12,
   "metadata": {},
   "outputs": [
    {
     "name": "stdout",
     "output_type": "stream",
     "text": [
      "['test_dws', '.DS_Store', 'test_armadillo.ipynb', 'read_matrix.m', '.ipynb_checkpoints', 'test_hz.csv']\n"
     ]
    }
   ],
   "source": [
    "import numpy as np\n",
    "import h5py    \n",
    "import os\n",
    "\n",
    "print(os.listdir())"
   ]
  },
  {
   "cell_type": "code",
   "execution_count": 16,
   "metadata": {},
   "outputs": [
    {
     "name": "stdout",
     "output_type": "stream",
     "text": [
      "(20, 20)\n",
      "[[nan+0.j nan+0.j nan+0.j nan+0.j nan+0.j nan+0.j nan+0.j nan+0.j nan+0.j\n",
      "  nan+0.j nan+0.j nan+0.j nan+0.j nan+0.j nan+0.j nan+0.j nan+0.j nan+0.j\n",
      "  nan+0.j nan+0.j]\n",
      " [nan+0.j nan+0.j nan+0.j nan+0.j nan+0.j nan+0.j nan+0.j nan+0.j nan+0.j\n",
      "  nan+0.j nan+0.j nan+0.j nan+0.j nan+0.j nan+0.j nan+0.j nan+0.j nan+0.j\n",
      "  nan+0.j nan+0.j]\n",
      " [nan+0.j nan+0.j nan+0.j nan+0.j nan+0.j nan+0.j nan+0.j nan+0.j nan+0.j\n",
      "  nan+0.j nan+0.j nan+0.j nan+0.j nan+0.j nan+0.j nan+0.j nan+0.j nan+0.j\n",
      "  nan+0.j nan+0.j]\n",
      " [nan+0.j nan+0.j nan+0.j nan+0.j nan+0.j nan+0.j nan+0.j nan+0.j nan+0.j\n",
      "  nan+0.j nan+0.j nan+0.j nan+0.j nan+0.j nan+0.j nan+0.j nan+0.j nan+0.j\n",
      "  nan+0.j nan+0.j]\n",
      " [nan+0.j nan+0.j nan+0.j nan+0.j nan+0.j nan+0.j nan+0.j nan+0.j nan+0.j\n",
      "  nan+0.j nan+0.j nan+0.j nan+0.j nan+0.j nan+0.j nan+0.j nan+0.j nan+0.j\n",
      "  nan+0.j nan+0.j]\n",
      " [nan+0.j nan+0.j nan+0.j nan+0.j nan+0.j nan+0.j nan+0.j nan+0.j nan+0.j\n",
      "  nan+0.j nan+0.j nan+0.j nan+0.j nan+0.j nan+0.j nan+0.j nan+0.j nan+0.j\n",
      "  nan+0.j nan+0.j]\n",
      " [nan+0.j nan+0.j nan+0.j nan+0.j nan+0.j nan+0.j nan+0.j nan+0.j nan+0.j\n",
      "  nan+0.j nan+0.j nan+0.j nan+0.j nan+0.j nan+0.j nan+0.j nan+0.j nan+0.j\n",
      "  nan+0.j nan+0.j]\n",
      " [nan+0.j nan+0.j nan+0.j nan+0.j nan+0.j nan+0.j nan+0.j nan+0.j nan+0.j\n",
      "  nan+0.j nan+0.j nan+0.j nan+0.j nan+0.j nan+0.j nan+0.j nan+0.j nan+0.j\n",
      "  nan+0.j nan+0.j]\n",
      " [nan+0.j nan+0.j nan+0.j nan+0.j nan+0.j nan+0.j nan+0.j nan+0.j nan+0.j\n",
      "  nan+0.j nan+0.j nan+0.j nan+0.j nan+0.j nan+0.j nan+0.j nan+0.j nan+0.j\n",
      "  nan+0.j nan+0.j]\n",
      " [nan+0.j nan+0.j nan+0.j nan+0.j nan+0.j nan+0.j nan+0.j nan+0.j nan+0.j\n",
      "  nan+0.j nan+0.j nan+0.j nan+0.j nan+0.j nan+0.j nan+0.j nan+0.j nan+0.j\n",
      "  nan+0.j nan+0.j]\n",
      " [nan+0.j nan+0.j nan+0.j nan+0.j nan+0.j nan+0.j nan+0.j nan+0.j nan+0.j\n",
      "  nan+0.j nan+0.j nan+0.j nan+0.j nan+0.j nan+0.j nan+0.j nan+0.j nan+0.j\n",
      "  nan+0.j nan+0.j]\n",
      " [nan+0.j nan+0.j nan+0.j nan+0.j nan+0.j nan+0.j nan+0.j nan+0.j nan+0.j\n",
      "  nan+0.j nan+0.j nan+0.j nan+0.j nan+0.j nan+0.j nan+0.j nan+0.j nan+0.j\n",
      "  nan+0.j nan+0.j]\n",
      " [nan+0.j nan+0.j nan+0.j nan+0.j nan+0.j nan+0.j nan+0.j nan+0.j nan+0.j\n",
      "  nan+0.j nan+0.j nan+0.j nan+0.j nan+0.j nan+0.j nan+0.j nan+0.j nan+0.j\n",
      "  nan+0.j nan+0.j]\n",
      " [nan+0.j nan+0.j nan+0.j nan+0.j nan+0.j nan+0.j nan+0.j nan+0.j nan+0.j\n",
      "  nan+0.j nan+0.j nan+0.j nan+0.j nan+0.j nan+0.j nan+0.j nan+0.j nan+0.j\n",
      "  nan+0.j nan+0.j]\n",
      " [nan+0.j nan+0.j nan+0.j nan+0.j nan+0.j nan+0.j nan+0.j nan+0.j nan+0.j\n",
      "  nan+0.j nan+0.j nan+0.j nan+0.j nan+0.j nan+0.j nan+0.j nan+0.j nan+0.j\n",
      "  nan+0.j nan+0.j]\n",
      " [nan+0.j nan+0.j nan+0.j nan+0.j nan+0.j nan+0.j nan+0.j nan+0.j nan+0.j\n",
      "  nan+0.j nan+0.j nan+0.j nan+0.j nan+0.j nan+0.j nan+0.j nan+0.j nan+0.j\n",
      "  nan+0.j nan+0.j]\n",
      " [nan+0.j nan+0.j nan+0.j nan+0.j nan+0.j nan+0.j nan+0.j nan+0.j nan+0.j\n",
      "  nan+0.j nan+0.j nan+0.j nan+0.j nan+0.j nan+0.j nan+0.j nan+0.j nan+0.j\n",
      "  nan+0.j nan+0.j]\n",
      " [nan+0.j nan+0.j nan+0.j nan+0.j nan+0.j nan+0.j nan+0.j nan+0.j nan+0.j\n",
      "  nan+0.j nan+0.j nan+0.j nan+0.j nan+0.j nan+0.j nan+0.j nan+0.j nan+0.j\n",
      "  nan+0.j nan+0.j]\n",
      " [nan+0.j nan+0.j nan+0.j nan+0.j nan+0.j nan+0.j nan+0.j nan+0.j nan+0.j\n",
      "  nan+0.j nan+0.j nan+0.j nan+0.j nan+0.j nan+0.j nan+0.j nan+0.j nan+0.j\n",
      "  nan+0.j nan+0.j]\n",
      " [nan+0.j nan+0.j nan+0.j nan+0.j nan+0.j nan+0.j nan+0.j nan+0.j nan+0.j\n",
      "  nan+0.j nan+0.j nan+0.j nan+0.j nan+0.j nan+0.j nan+0.j nan+0.j nan+0.j\n",
      "  nan+0.j nan+0.j]]\n"
     ]
    }
   ],
   "source": [
    "# fileName = \"test_dws\";  \n",
    "# # with open(fileName, mode='rb') as file: # b is important -> binary\n",
    "# #     fileContent = file.read()\n",
    "# #     print(fileContent)\n",
    "    \n",
    "# from pathlib import Path\n",
    "# data = Path(fileName).read_bytes()\n",
    "\n",
    "import csv\n",
    "\n",
    "\n",
    "filename = 'test_hz.csv'\n",
    "import csv\n",
    "\n",
    "# with open(filename, \"r\") as csvfile:\n",
    "#     csvreader = csv.reader(csvfile, delimiter=\",\")\n",
    "\n",
    "#     for row in csvreader:\n",
    "#         print(row)\n",
    "\n",
    "data = np.genfromtxt(filename, dtype=complex, delimiter=',',autostrip=True);\n",
    "print(data.shape)\n",
    "print(data)"
   ]
  },
  {
   "cell_type": "code",
   "execution_count": 7,
   "metadata": {},
   "outputs": [
    {
     "ename": "NameError",
     "evalue": "name 'unicode' is not defined",
     "output_type": "error",
     "traceback": [
      "\u001b[0;31m---------------------------------------------------------------------------\u001b[0m",
      "\u001b[0;31mNameError\u001b[0m                                 Traceback (most recent call last)",
      "\u001b[0;32m<ipython-input-7-a5a941a06c1f>\u001b[0m in \u001b[0;36m<module>\u001b[0;34m\u001b[0m\n\u001b[0;32m----> 1\u001b[0;31m \u001b[0;32mfor\u001b[0m \u001b[0mline\u001b[0m \u001b[0;32min\u001b[0m \u001b[0mreader\u001b[0m\u001b[0;34m:\u001b[0m\u001b[0;34m\u001b[0m\u001b[0;34m\u001b[0m\u001b[0m\n\u001b[0m\u001b[1;32m      2\u001b[0m     \u001b[0mprint\u001b[0m\u001b[0;34m(\u001b[0m\u001b[0mline\u001b[0m\u001b[0;34m)\u001b[0m\u001b[0;34m\u001b[0m\u001b[0;34m\u001b[0m\u001b[0m\n",
      "\u001b[0;32m<ipython-input-6-4aa0722b5fbf>\u001b[0m in \u001b[0;36municode_csv_reader\u001b[0;34m(utf8_data, dialect, **kwargs)\u001b[0m\n\u001b[1;32m     12\u001b[0m     \u001b[0mcsv_reader\u001b[0m \u001b[0;34m=\u001b[0m \u001b[0mcsv\u001b[0m\u001b[0;34m.\u001b[0m\u001b[0mreader\u001b[0m\u001b[0;34m(\u001b[0m\u001b[0mutf8_data\u001b[0m\u001b[0;34m,\u001b[0m \u001b[0mdialect\u001b[0m\u001b[0;34m=\u001b[0m\u001b[0mdialect\u001b[0m\u001b[0;34m,\u001b[0m \u001b[0;34m**\u001b[0m\u001b[0mkwargs\u001b[0m\u001b[0;34m)\u001b[0m\u001b[0;34m\u001b[0m\u001b[0;34m\u001b[0m\u001b[0m\n\u001b[1;32m     13\u001b[0m     \u001b[0;32mfor\u001b[0m \u001b[0mrow\u001b[0m \u001b[0;32min\u001b[0m \u001b[0mcsv_reader\u001b[0m\u001b[0;34m:\u001b[0m\u001b[0;34m\u001b[0m\u001b[0;34m\u001b[0m\u001b[0m\n\u001b[0;32m---> 14\u001b[0;31m         \u001b[0;32myield\u001b[0m \u001b[0;34m[\u001b[0m\u001b[0municode\u001b[0m\u001b[0;34m(\u001b[0m\u001b[0mcell\u001b[0m\u001b[0;34m,\u001b[0m \u001b[0;34m'utf-8'\u001b[0m\u001b[0;34m)\u001b[0m \u001b[0;32mfor\u001b[0m \u001b[0mcell\u001b[0m \u001b[0;32min\u001b[0m \u001b[0mrow\u001b[0m\u001b[0;34m]\u001b[0m\u001b[0;34m\u001b[0m\u001b[0;34m\u001b[0m\u001b[0m\n\u001b[0m\u001b[1;32m     15\u001b[0m \u001b[0;34m\u001b[0m\u001b[0m\n\u001b[1;32m     16\u001b[0m \u001b[0mfilename\u001b[0m \u001b[0;34m=\u001b[0m \u001b[0;34m'test_hz.csv'\u001b[0m\u001b[0;34m\u001b[0m\u001b[0;34m\u001b[0m\u001b[0m\n",
      "\u001b[0;32m<ipython-input-6-4aa0722b5fbf>\u001b[0m in \u001b[0;36m<listcomp>\u001b[0;34m(.0)\u001b[0m\n\u001b[1;32m     12\u001b[0m     \u001b[0mcsv_reader\u001b[0m \u001b[0;34m=\u001b[0m \u001b[0mcsv\u001b[0m\u001b[0;34m.\u001b[0m\u001b[0mreader\u001b[0m\u001b[0;34m(\u001b[0m\u001b[0mutf8_data\u001b[0m\u001b[0;34m,\u001b[0m \u001b[0mdialect\u001b[0m\u001b[0;34m=\u001b[0m\u001b[0mdialect\u001b[0m\u001b[0;34m,\u001b[0m \u001b[0;34m**\u001b[0m\u001b[0mkwargs\u001b[0m\u001b[0;34m)\u001b[0m\u001b[0;34m\u001b[0m\u001b[0;34m\u001b[0m\u001b[0m\n\u001b[1;32m     13\u001b[0m     \u001b[0;32mfor\u001b[0m \u001b[0mrow\u001b[0m \u001b[0;32min\u001b[0m \u001b[0mcsv_reader\u001b[0m\u001b[0;34m:\u001b[0m\u001b[0;34m\u001b[0m\u001b[0;34m\u001b[0m\u001b[0m\n\u001b[0;32m---> 14\u001b[0;31m         \u001b[0;32myield\u001b[0m \u001b[0;34m[\u001b[0m\u001b[0municode\u001b[0m\u001b[0;34m(\u001b[0m\u001b[0mcell\u001b[0m\u001b[0;34m,\u001b[0m \u001b[0;34m'utf-8'\u001b[0m\u001b[0;34m)\u001b[0m \u001b[0;32mfor\u001b[0m \u001b[0mcell\u001b[0m \u001b[0;32min\u001b[0m \u001b[0mrow\u001b[0m\u001b[0;34m]\u001b[0m\u001b[0;34m\u001b[0m\u001b[0;34m\u001b[0m\u001b[0m\n\u001b[0m\u001b[1;32m     15\u001b[0m \u001b[0;34m\u001b[0m\u001b[0m\n\u001b[1;32m     16\u001b[0m \u001b[0mfilename\u001b[0m \u001b[0;34m=\u001b[0m \u001b[0;34m'test_hz.csv'\u001b[0m\u001b[0;34m\u001b[0m\u001b[0;34m\u001b[0m\u001b[0m\n",
      "\u001b[0;31mNameError\u001b[0m: name 'unicode' is not defined"
     ]
    }
   ],
   "source": [
    "for line in reader:\n",
    "    print(line)"
   ]
  },
  {
   "cell_type": "code",
   "execution_count": null,
   "metadata": {},
   "outputs": [],
   "source": []
  }
 ],
 "metadata": {
  "kernelspec": {
   "display_name": "Python 3",
   "language": "python",
   "name": "python3"
  },
  "language_info": {
   "codemirror_mode": {
    "name": "ipython",
    "version": 3
   },
   "file_extension": ".py",
   "mimetype": "text/x-python",
   "name": "python",
   "nbconvert_exporter": "python",
   "pygments_lexer": "ipython3",
   "version": "3.8.5"
  }
 },
 "nbformat": 4,
 "nbformat_minor": 5
}
